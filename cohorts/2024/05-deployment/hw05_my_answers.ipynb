{
 "cells": [
  {
   "cell_type": "markdown",
   "metadata": {},
   "source": [
    "# Homework 5\n",
    "\n",
    "- [homework](https://github.com/alexkolo/ml-zoomcamp-2024/blob/main/cohorts/2024/04-evaluation/homework.md)\n",
    "- [submit here](https://courses.datatalks.club/ml-zoomcamp-2024/homework/hw05)\n",
    "    - Due date: 28 October 2024 01:00 (local time)\n",
    "    - [link to notebook](https://github.com/alexkolo/ml-zoomcamp-2024/blob/main/cohorts/2024/05-deployment/hw05_my_answers.ipynb)"
   ]
  },
  {
   "cell_type": "markdown",
   "metadata": {},
   "source": [
    "## Dataset\n",
    "\n",
    "In this homework, we will use the Bank Marketing dataset. Download it from [here](https://archive.ics.uci.edu/static/public/222/bank+marketing.zip).\n",
    "\n",
    "You can do it with `wget`:\n",
    "\n",
    "```bash\n",
    "wget https://archive.ics.uci.edu/static/public/222/bank+marketing.zip\n",
    "unzip bank+marketing.zip \n",
    "unzip bank.zip\n",
    "```\n",
    "\n",
    "We need `bank-full.csv`.\n",
    "\n",
    "You can also access the copy of `back-full.csv` directly:\n",
    "\n",
    "```bash\n",
    "wget https://github.com/alexeygrigorev/datasets/raw/refs/heads/master/bank-full.csv\n",
    "```\n"
   ]
  },
  {
   "cell_type": "code",
   "execution_count": 1,
   "metadata": {},
   "outputs": [],
   "source": [
    "import pandas as pd\n",
    "\n",
    "df: pd.DataFrame = pd.read_csv(filepath_or_buffer=\"../03-classification/bank-full.csv\", sep=\";\")"
   ]
  },
  {
   "cell_type": "markdown",
   "metadata": {},
   "source": [
    "## Question 1\n",
    "\n",
    "* Install Pipenv\n",
    "* What's the version of pipenv you installed?\n",
    "* Use `--version` to find out\n",
    "\n",
    "### Steps\n",
    "\n",
    "- Guide: - https://pipenv.pypa.io/en/latest/installation.html\n",
    "\n",
    "- `source venv/bin/activate`\n",
    "- `pip install pipenv --user`\n",
    "  \n",
    "```bash\n",
    "  WARNING: The script virtualenv is installed in '/home/alex/.local/bin' which is not on PATH.\n",
    "  Consider adding this directory to PATH or, if you prefer to suppress this warning, use --no-warn-script-location.\n",
    "  \n",
    "  WARNING: The scripts pipenv and pipenv-resolver are installed in '/home/alex/.local/bin' which is not on PATH.\n",
    "  Consider adding this directory to PATH or, if you prefer to suppress this warning, use --no-warn-script-location.\n",
    "```\n",
    "\n",
    "- added `export PATH=\"$HOME/.local/bin:$PATH\"` to `.bashrc`\n",
    "\n",
    "- to get answer `pip show pipenv` \n",
    "\n",
    "### Answer\n",
    "\n",
    "`2024.2.0`"
   ]
  },
  {
   "cell_type": "markdown",
   "metadata": {},
   "source": [
    "## Question 2\n",
    "\n",
    "* Use Pipenv to install Scikit-Learn version 1.5.2\n",
    "* What's the first hash for scikit-learn you get in Pipfile.lock?\n",
    "\n",
    "> **Note**: you should create an empty folder for homework\n",
    "and do it there. \n",
    "\n",
    "### Answer\n",
    "\n",
    "`03b6158efa3faaf1feea3faa884c840ebd61b6484167c711548fce208ea09445`"
   ]
  },
  {
   "cell_type": "markdown",
   "metadata": {},
   "source": [
    "### Steps\n",
    "```bash\n",
    "mkdir $HOME/repos/ml-zoomcamp-2024_hw05\n",
    "cd $HOME/repos/ml-zoomcamp-2024_hw05\n",
    "pyenv global 3.11.10\n",
    "pip show pipenv #  just checking\n",
    "\n",
    "    Name: pipenv\n",
    "    Version: 2024.2.0\n",
    "    ...\n",
    "\n",
    "pip freeze\n",
    "    certifi==2024.8.30\n",
    "    distlib==0.3.9\n",
    "    filelock==3.16.1\n",
    "    packaging==24.1\n",
    "    pipenv==2024.2.0\n",
    "    platformdirs==4.3.6\n",
    "    virtualenv==20.27.0\n",
    "\n",
    "pipenv install scikit-learn==1.5.2 # creates `Pipfile` and `Pipfile.lock`\n",
    "\n",
    "    Creating a virtualenv for this project\n",
    "    Pipfile: /home/alex/repos/ml-zoomcamp-2024_hw05/Pipfile\n",
    "    Using default python from /home/alex/.pyenv/versions/3.11.10/bin/python3.113.11.10 to create\n",
    "    virtualenv...\n",
    "    ⠼ Creating virtual environment...created virtual environment CPython3.11.10.final.0-64 in 310ms\n",
    "    creator CPython3Posix(dest=/home/alex/.local/share/virtualenvs/ml-zoomcamp-2024_hw05-GNuJjKfx,\n",
    "    clear=False, no_vcs_ignore=False, global=False)\n",
    "    seeder FromAppData(download=False, pip=bundle, setuptools=bundle, wheel=bundle, via=copy,\n",
    "    app_data_dir=/home/alex/.local/share/virtualenv)\n",
    "        added seed packages: pip==24.2, setuptools==75.2.0, wheel==0.44.0\n",
    "    activators\n",
    "    BashActivator,CShellActivator,FishActivator,NushellActivator,PowerShellActivator,PythonActivator\n",
    "\n",
    "    ✔ Successfully created virtual environment!\n",
    "    Virtualenv location: /home/alex/.local/share/virtualenvs/ml-zoomcamp-2024_hw05-GNuJjKfx\n",
    "    Creating a Pipfile for this project...\n",
    "    Pipfile.lock not found, creating...\n",
    "    Locking [packages] dependencies...\n",
    "    Locking [dev-packages] dependencies...\n",
    "    Updated Pipfile.lock (ed6d5d614626ae28e274e453164affb26694755170ccab3aa5866f093d51d3e4)!\n",
    "    To activate this project's virtualenv, run pipenv shell.\n",
    "    Alternatively, run a command inside the virtualenv with pipenv run.\n",
    "    Installing scikit-learn==1.5.2...\n",
    "    ✔ Installation Succeeded\n",
    "    Building requirements...\n",
    "    Resolving dependencies...\n",
    "    ✔ Success!\n",
    "    Building requirements...\n",
    "    Resolving dependencies...\n",
    "    ✔ Success!\n",
    "    To activate this project's virtualenv, run pipenv shell.\n",
    "    Alternatively, run a command inside the virtualenv with pipenv run.\n",
    "    Installing dependencies from Pipfile.lock (344639)...\n",
    "    All dependencies are now up-to-date!\n",
    "    Installing dependencies from Pipfile.lock (344639)...\n",
    "\n",
    "cat Pipfile.lock\n",
    "\n",
    "    \"scikit-learn\": {\n",
    "        \"hashes\": [\n",
    "            \"sha256:03b6158efa3faaf1feea3faa884c840ebd61b6484167c711548fce208ea09445\",\n",
    "```\n",
    "\n",
    "- same hash!\n",
    "    - $HOME/repos/ml-zoomcamp-2024/Pipfile.lock\n",
    "    - $HOME/repos/ml-zoomcamp-2024_hw05/Pipfile.lock`"
   ]
  },
  {
   "cell_type": "markdown",
   "metadata": {},
   "source": [
    "### Clean up\n",
    "\n",
    "- remove Pipfile and Pipfile.lock in repo\n",
    "- `rm -r $HOME/repos/ml-zoomcamp-2024_hw05`\n",
    "- remove virtual env in  `/home/alex/.local/share/virtualenvs/`\n",
    "    - `rm -r /home/alex/.local/share/virtualenvs/ml*`\n",
    "- `pip uninstall pipenv`"
   ]
  },
  {
   "cell_type": "markdown",
   "metadata": {},
   "source": [
    "## Models\n",
    "\n",
    "We've prepared a dictionary vectorizer and a model.\n",
    "\n",
    "They were trained (roughly) using this code:\n",
    "\n",
    "```python\n",
    "features = ['job', 'duration', 'poutcome']\n",
    "dicts = df[features].to_dict(orient='records')\n",
    "\n",
    "dv = DictVectorizer(sparse=False)\n",
    "X = dv.fit_transform(dicts)\n",
    "\n",
    "model = LogisticRegression().fit(X, y)\n",
    "```\n",
    "\n",
    "> **Note**: You don't need to train the model. This code is just for your reference.\n",
    "\n",
    "And then saved with Pickle. in Folder: `cohorts/2024/05-deployment/homework`\n"
   ]
  },
  {
   "cell_type": "markdown",
   "metadata": {},
   "source": [
    "## Question 3\n",
    "\n",
    "Let's use these models!\n",
    "\n",
    "* Write a script for loading these models with pickle\n",
    "* Score this client:\n",
    "\n",
    "```json\n",
    "{\"job\": \"management\", \"duration\": 400, \"poutcome\": \"success\"}\n",
    "```\n",
    "\n",
    "What's the probability that this client will get a subscription? \n",
    "\n",
    "* 0.359\n",
    "* 0.559\n",
    "* 0.759\n",
    "* 0.959\n",
    "\n",
    "If you're getting errors when unpickling the files, check their checksum:\n",
    "\n",
    "```bash\n",
    "$ md5sum model1.bin dv.bin\n",
    "3d8bb28974e55edefa000fe38fd3ed12  model1.bin\n",
    "7d37616e00aa80f2152b8b0511fc2dff  dv.bin\n",
    "```\n",
    "\n",
    "### Steps\n",
    "\n",
    "```bash\n",
    "cd cohorts/2024/05-deployment/homework\n",
    "md5sum model1.bin dv.bin\n",
    "```\n",
    "\n",
    "Correct!\n",
    "\n",
    "### Answer\n",
    "\n",
    "`0.759`"
   ]
  },
  {
   "cell_type": "code",
   "execution_count": 2,
   "metadata": {},
   "outputs": [],
   "source": [
    "import pickle\n",
    "from sklearn.feature_extraction import DictVectorizer\n",
    "from sklearn.linear_model import LogisticRegression"
   ]
  },
  {
   "cell_type": "code",
   "execution_count": 3,
   "metadata": {},
   "outputs": [],
   "source": [
    "with open(file=\"homework/model1.bin\", mode=\"rb\") as f_in:\n",
    "    model: LogisticRegression = pickle.load(file=f_in)\n",
    "\n",
    "with open(file=\"homework/dv.bin\", mode=\"rb\") as f_in:\n",
    "    dv: DictVectorizer = pickle.load(file=f_in)"
   ]
  },
  {
   "cell_type": "code",
   "execution_count": 4,
   "metadata": {},
   "outputs": [
    {
     "data": {
      "text/plain": [
       "np.float64(0.759)"
      ]
     },
     "execution_count": 4,
     "metadata": {},
     "output_type": "execute_result"
    }
   ],
   "source": [
    "dicts: list[dict] = [{\"job\": \"management\", \"duration\": 400, \"poutcome\": \"success\"}]\n",
    "y_predict = model.predict_proba(X=dv.transform(X=dicts))[:, 1]\n",
    "round(number=y_predict[0], ndigits=3)"
   ]
  },
  {
   "cell_type": "markdown",
   "metadata": {},
   "source": [
    "## Question 4\n",
    "\n",
    "Now let's serve this model as a web service\n",
    "\n",
    "* Install Flask and gunicorn (or waitress, if you're on Windows)\n",
    "* Write Flask code for serving the model\n",
    "* Now score this client using `requests`:\n",
    "\n",
    "```python\n",
    "url = \"YOUR_URL\"\n",
    "client = {\"job\": \"student\", \"duration\": 280, \"poutcome\": \"failure\"}\n",
    "requests.post(url, json=client).json()\n",
    "```\n",
    "\n",
    "What's the probability that this client will get a subscription?\n",
    "\n",
    "* 0.335\n",
    "* 0.535\n",
    "* 0.735\n",
    "* 0.935\n",
    "\n",
    "### Answer\n",
    "\n",
    "`0.335`"
   ]
  },
  {
   "cell_type": "markdown",
   "metadata": {},
   "source": [
    "### Simple way"
   ]
  },
  {
   "cell_type": "code",
   "execution_count": 5,
   "metadata": {},
   "outputs": [
    {
     "data": {
      "text/plain": [
       "np.float64(0.335)"
      ]
     },
     "execution_count": 5,
     "metadata": {},
     "output_type": "execute_result"
    }
   ],
   "source": [
    "dicts: list[dict] = [{\"job\": \"student\", \"duration\": 280, \"poutcome\": \"failure\"}]\n",
    "y_predict = model.predict_proba(X=dv.transform(X=dicts))[:, 1]\n",
    "round(number=y_predict[0], ndigits=3)"
   ]
  },
  {
   "cell_type": "markdown",
   "metadata": {},
   "source": [
    "### Flask App way"
   ]
  }
 ],
 "metadata": {
  "kernelspec": {
   "display_name": "venv",
   "language": "python",
   "name": "python3"
  },
  "language_info": {
   "codemirror_mode": {
    "name": "ipython",
    "version": 3
   },
   "file_extension": ".py",
   "mimetype": "text/x-python",
   "name": "python",
   "nbconvert_exporter": "python",
   "pygments_lexer": "ipython3",
   "version": "3.11.10"
  }
 },
 "nbformat": 4,
 "nbformat_minor": 2
}
