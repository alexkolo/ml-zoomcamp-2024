{
 "cells": [
  {
   "cell_type": "markdown",
   "metadata": {},
   "source": [
    "# Homework 4\n",
    "\n",
    "- [homework](https://github.com/alexkolo/ml-zoomcamp-2024/blob/main/cohorts/2024/04-evaluation/homework.md)\n",
    "- [submit here](https://courses.datatalks.club/ml-zoomcamp-2024/homework/hw04)\n",
    "    - Due date: 22 October 2024 01:00 (local time)\n",
    "    - [link to notebook](https://github.com/alexkolo/ml-zoomcamp-2024/blob/main/cohorts/2024/04-evaluation/hw04_my_answers.ipynb)"
   ]
  },
  {
   "cell_type": "markdown",
   "metadata": {},
   "source": [
    "## Dataset\n",
    "\n",
    "In this homework, we will use the Bank Marketing dataset. Download it from [here](https://archive.ics.uci.edu/static/public/222/bank+marketing.zip).\n",
    "\n",
    "You can do it with `wget`:\n",
    "\n",
    "```bash\n",
    "wget https://archive.ics.uci.edu/static/public/222/bank+marketing.zip\n",
    "unzip bank+marketing.zip \n",
    "unzip bank.zip\n",
    "```\n",
    "\n",
    "We need `bank-full.csv`.\n",
    "\n",
    "In this dataset the target variable is `y` variable - has the client subscribed a term deposit or not. \n",
    "\n",
    "### Dataset preparation\n",
    "\n",
    "For the rest of the homework, you'll need to use only these columns:\n",
    "\n",
    "* `'age'`,\n",
    "* `'job'`,\n",
    "* `'marital'`,\n",
    "* `'education'`,\n",
    "* `'balance'`,\n",
    "* `'housing'`,\n",
    "* `'contact'`,\n",
    "* `'day'`,\n",
    "* `'month'`,\n",
    "* `'duration'`,\n",
    "* `'campaign'`,\n",
    "* `'pdays'`,\n",
    "* `'previous'`,\n",
    "* `'poutcome'`,\n",
    "* `'y'`\n",
    "\n",
    "Split the data into 3 parts: train/validation/test with 60%/20%/20% distribution. Use `train_test_split` function for that with `random_state=1`"
   ]
  },
  {
   "cell_type": "code",
   "execution_count": 1,
   "metadata": {},
   "outputs": [],
   "source": [
    "import pandas as pd\n",
    "\n",
    "df: pd.DataFrame = pd.read_csv(filepath_or_buffer=\"../03-classification/bank-full.csv\", sep=\";\")\n",
    "cols: list[str] = [\n",
    "    \"age\",\n",
    "    \"job\",\n",
    "    \"marital\",\n",
    "    \"education\",\n",
    "    \"balance\",\n",
    "    \"housing\",\n",
    "    \"contact\",\n",
    "    \"day\",\n",
    "    \"month\",\n",
    "    \"duration\",\n",
    "    \"campaign\",\n",
    "    \"pdays\",\n",
    "    \"previous\",\n",
    "    \"poutcome\",\n",
    "    \"y\",\n",
    "]\n",
    "df = df[cols]"
   ]
  },
  {
   "cell_type": "code",
   "execution_count": 2,
   "metadata": {},
   "outputs": [],
   "source": [
    "df[\"y\"] = df[\"y\"].map(arg={\"yes\": 1, \"no\": 0})"
   ]
  },
  {
   "cell_type": "code",
   "execution_count": 3,
   "metadata": {},
   "outputs": [],
   "source": [
    "target = \"y\""
   ]
  },
  {
   "cell_type": "code",
   "execution_count": 4,
   "metadata": {},
   "outputs": [],
   "source": [
    "from sklearn.model_selection import train_test_split\n",
    "\n",
    "seed = 1\n",
    "f_text = 0.2\n",
    "f_val = 0.2\n",
    "\n",
    "df_full_train, df_test = train_test_split(df.drop(columns=\"y\"), test_size=f_text, random_state=seed)\n",
    "df_train, df_val = train_test_split(df_full_train, test_size=f_val, random_state=seed)"
   ]
  },
  {
   "cell_type": "markdown",
   "metadata": {},
   "source": [
    "\n",
    "### Question 1: ROC AUC feature importance\n",
    "\n",
    "ROC AUC could also be used to evaluate feature importance of numerical variables. \n",
    "\n",
    "Let's do that\n",
    "\n",
    "* For each numerical variable, use it as score and compute AUC with the `y` variable\n",
    "* Use the training dataset for that\n",
    "\n",
    "\n",
    "If your AUC is < 0.5, invert this variable by putting \"-\" in front\n",
    "\n",
    "(e.g. `-df_train['engine_hp']`)\n",
    "\n",
    "AUC can go below 0.5 if the variable is negatively correlated with the target variable. You can change the direction of the correlation by negating this variable - then negative correlation becomes positive.\n",
    "\n",
    "Which numerical variable (among the following 4) has the highest AUC?\n",
    "\n",
    "- `balance`\n",
    "- `day`\n",
    "- `duration`\n",
    "- `previous`\n",
    "\n",
    "#### Answer (not sure if correct)\n",
    "\n",
    "`duration`\n",
    "\n",
    "see slack discussion: https://datatalks-club.slack.com/archives/C0288NJ5XSA/p1728902527746739"
   ]
  },
  {
   "cell_type": "code",
   "execution_count": 5,
   "metadata": {},
   "outputs": [],
   "source": [
    "numerical: list[str] = df_train.select_dtypes(include=\"number\").columns.to_list()"
   ]
  },
  {
   "cell_type": "code",
   "execution_count": 6,
   "metadata": {},
   "outputs": [],
   "source": [
    "import numpy as np\n",
    "from sklearn.metrics import auc\n",
    "from sklearn.metrics import roc_curve"
   ]
  },
  {
   "cell_type": "code",
   "execution_count": 7,
   "metadata": {},
   "outputs": [],
   "source": [
    "auc_dict: dict[str, float] = {}\n",
    "for feature in numerical:\n",
    "    X_train: np.ndarray = df_train[feature].to_numpy()\n",
    "    target_train: np.ndarray = df[target][df_train.index].to_numpy()\n",
    "\n",
    "    # i_sort = np.argsort(X_train)\n",
    "    # auc_dict[feature] = auc(x=X_train[i_sort], y=y_train[i_sort])\n",
    "\n",
    "    fpr, tpr, thresholds = roc_curve(y_true=target_train, y_score=X_train)\n",
    "    auc_dict[feature] = auc(x=fpr, y=tpr)"
   ]
  },
  {
   "cell_type": "code",
   "execution_count": 8,
   "metadata": {},
   "outputs": [
    {
     "data": {
      "text/plain": [
       "duration    0.814292\n",
       "dtype: float64"
      ]
     },
     "execution_count": 8,
     "metadata": {},
     "output_type": "execute_result"
    }
   ],
   "source": [
    "pd.Series(auc_dict).sort_values(ascending=False).head(n=1)"
   ]
  },
  {
   "cell_type": "markdown",
   "metadata": {},
   "source": [
    "### Question 2: Training the model\n",
    "\n",
    "Apply one-hot-encoding using `DictVectorizer` and train the logistic regression with these parameters:\n",
    "\n",
    "```python\n",
    "LogisticRegression(solver='liblinear', C=1.0, max_iter=1000)\n",
    "```\n",
    "\n",
    "What's the AUC of this model on the validation dataset? (round to 3 digits)\n",
    "\n",
    "- 0.69\n",
    "- 0.79\n",
    "- 0.89\n",
    "- 0.99\n",
    "\n",
    "#### Answer\n",
    "\n",
    "`0.89`"
   ]
  },
  {
   "cell_type": "code",
   "execution_count": 9,
   "metadata": {},
   "outputs": [],
   "source": [
    "numerical: list[str] = df_train.select_dtypes(include=\"number\").columns.to_list()\n",
    "categorical: list[str] = df_train.select_dtypes(exclude=\"number\").columns.to_list()\n",
    "features: list[str] = categorical + numerical"
   ]
  },
  {
   "cell_type": "code",
   "execution_count": 10,
   "metadata": {},
   "outputs": [],
   "source": [
    "from sklearn.feature_extraction import DictVectorizer"
   ]
  },
  {
   "cell_type": "code",
   "execution_count": 11,
   "metadata": {},
   "outputs": [],
   "source": [
    "dv = DictVectorizer(sparse=False)\n",
    "train_dict: dict = df_train[features].to_dict(orient=\"records\")\n",
    "X_train: np.ndarray = dv.fit_transform(X=train_dict)\n",
    "target_train: np.ndarray = df[target][df_train.index].to_numpy()\n",
    "val_dict: dict = df_val[features].to_dict(orient=\"records\")\n",
    "X_val: np.ndarray = dv.transform(X=val_dict)\n",
    "y_val: np.ndarray = df[target][df_val.index].to_numpy()"
   ]
  },
  {
   "cell_type": "code",
   "execution_count": 12,
   "metadata": {},
   "outputs": [],
   "source": [
    "from sklearn.linear_model import LogisticRegression\n",
    "\n",
    "model = LogisticRegression(solver=\"liblinear\", C=1.0, max_iter=1000)"
   ]
  },
  {
   "cell_type": "code",
   "execution_count": 13,
   "metadata": {},
   "outputs": [],
   "source": [
    "model.fit(X=X_train, y=target_train)\n",
    "y_pred: \"pd.Series[float]\" = model.predict_proba(X=X_val)[:, 1]"
   ]
  },
  {
   "cell_type": "code",
   "execution_count": 14,
   "metadata": {},
   "outputs": [
    {
     "data": {
      "text/plain": [
       "np.float64(0.899)"
      ]
     },
     "execution_count": 14,
     "metadata": {},
     "output_type": "execute_result"
    }
   ],
   "source": [
    "fpr, tpr, thresholds = roc_curve(y_true=y_val, y_score=y_pred)\n",
    "round(number=auc(x=fpr, y=tpr), ndigits=3)"
   ]
  },
  {
   "cell_type": "markdown",
   "metadata": {},
   "source": [
    "### Question 3: Precision and Recall\n",
    "\n",
    "Now let's compute precision and recall for our model.\n",
    "\n",
    "* Evaluate the model on all thresholds from 0.0 to 1.0 with step 0.01\n",
    "* For each threshold, compute precision and recall\n",
    "* Plot them\n",
    "\n",
    "At which threshold precision and recall curves intersect?\n",
    "\n",
    "* 0.265\n",
    "* 0.465\n",
    "* 0.665\n",
    "* 0.865\n",
    "\n",
    "#### Answer\n",
    "\n",
    "`0.265`"
   ]
  },
  {
   "cell_type": "code",
   "execution_count": 15,
   "metadata": {},
   "outputs": [],
   "source": [
    "scores: list[tuple[float, ...]] = []\n",
    "\n",
    "actual_positive: np.ndarray = y_val == 1\n",
    "actual_negative: np.ndarray = y_val == 0\n",
    "thresholds = np.arange(0, 1, 0.01)\n",
    "\n",
    "for t in thresholds:\n",
    "    predict_positive: np.ndarray = y_pred >= t\n",
    "    predict_negative: np.ndarray = y_pred < t\n",
    "\n",
    "    tp: float = (predict_positive & actual_positive).sum()\n",
    "    tn: float = (predict_negative & actual_negative).sum()\n",
    "\n",
    "    fp: float = (predict_positive & actual_negative).sum()\n",
    "    fn: float = (predict_negative & actual_positive).sum()\n",
    "\n",
    "    # Precision (positive predictive value): fraction of relevant instances among the retrieved instances\n",
    "    p: float = tp / (tp + fp)\n",
    "\n",
    "    # recall (aka sensitivity): fraction of relevant instances that were retrieved\n",
    "    r: float = tp / (tp + fn)\n",
    "\n",
    "    # f1-score\n",
    "    f1: float = 2 * p * r / (p + r)\n",
    "\n",
    "    scores.append((t, tp, fp, fn, tn, p, r, f1))"
   ]
  },
  {
   "cell_type": "code",
   "execution_count": 16,
   "metadata": {},
   "outputs": [],
   "source": [
    "columns: list[str] = [\"threshold\", \"tp\", \"fp\", \"fn\", \"tn\", \"precision\", \"recall\", \"f1-score\"]\n",
    "df_scores = pd.DataFrame(data=scores, columns=columns)"
   ]
  },
  {
   "cell_type": "code",
   "execution_count": 17,
   "metadata": {},
   "outputs": [],
   "source": [
    "import matplotlib.pyplot as plt"
   ]
  },
  {
   "cell_type": "code",
   "execution_count": 18,
   "metadata": {},
   "outputs": [
    {
     "data": {
      "image/png": "[encoded data removed]",
      "text/plain": [
       "<Figure size 640x480 with 1 Axes>"
      ]
     },
     "metadata": {},
     "output_type": "display_data"
    }
   ],
   "source": [
    "plt.plot(df_scores[\"threshold\"], df_scores[\"precision\"], label=\"Precision\")\n",
    "plt.plot(df_scores[\"threshold\"], df_scores[\"recall\"], label=\"Recall\")\n",
    "\n",
    "# Threshold 0.265\n",
    "plt.vlines(x=0.265, ymin=0, ymax=1, color=\"magenta\", linestyle=\"--\", alpha=0.5, label=\"t=0.265\")\n",
    "\n",
    "# F1-Score Max\n",
    "plt.plot(df_scores[\"threshold\"], df_scores[\"f1-score\"], label=\"F1-score\")\n",
    "f1_max: float = df_scores[\"f1-score\"].max()\n",
    "t_of_f1_max: float = df_scores[\"threshold\"].loc[df_scores[\"f1-score\"] == f1_max].iloc[0]\n",
    "plt.hlines(y=f1_max, xmin=0, xmax=1, color=\"green\", linestyle=\":\", alpha=0.5, label=\"Max(F1-Score)\")\n",
    "plt.vlines(x=t_of_f1_max, ymin=0, ymax=1, color=\"green\", linestyle=\":\", alpha=0.5)\n",
    "\n",
    "plt.legend()\n",
    "plt.xlabel(\"Threshold\")\n",
    "plt.ylabel(\"Score\")\n",
    "plt.ylim(0, 1)\n",
    "plt.xlim(0, 1)\n",
    "plt.grid()\n",
    "plt.show()"
   ]
  },
  {
   "cell_type": "markdown",
   "metadata": {},
   "source": [
    "### Question 4: F1 score\n",
    "\n",
    "Precision and recall are conflicting - when one grows, the other goes down. That's why they are often combined into the F1 score - a metrics that takes into account both\n",
    "\n",
    "This is the formula for computing F1:\n",
    "\n",
    "$$F_1 = 2 \\cdot \\cfrac{P \\cdot R}{P + R}$$\n",
    "\n",
    "Where $P$ is precision and $R$ is recall.\n",
    "\n",
    "Let's compute F1 for all thresholds from 0.0 to 1.0 with increment 0.01\n",
    "\n",
    "At which threshold F1 is maximal?\n",
    "\n",
    "- 0.02\n",
    "- 0.22\n",
    "- 0.42\n",
    "- 0.62\n",
    "\n",
    "#### Answer\n",
    "\n",
    "`0.22`"
   ]
  },
  {
   "cell_type": "code",
   "execution_count": 19,
   "metadata": {},
   "outputs": [
    {
     "data": {
      "text/plain": [
       "np.float64(0.22)"
      ]
     },
     "execution_count": 19,
     "metadata": {},
     "output_type": "execute_result"
    }
   ],
   "source": [
    "df_scores[\"threshold\"].iloc[df_scores[\"f1-score\"].argmax()]"
   ]
  },
  {
   "cell_type": "markdown",
   "metadata": {},
   "source": [
    "### Question 5: 5-Fold CV\n",
    "\n",
    "\n",
    "Use the `KFold` class from Scikit-Learn to evaluate our model on 5 different folds:\n",
    "\n",
    "```\n",
    "KFold(n_splits=5, shuffle=True, random_state=1)\n",
    "```\n",
    "\n",
    "* Iterate over different folds of `df_full_train`\n",
    "* Split the data into train and validation\n",
    "* Train the model on train with these parameters: `LogisticRegression(solver='liblinear', C=1.0, max_iter=1000)`\n",
    "* Use AUC to evaluate the model on validation\n",
    "\n",
    "How large is standard deviation of the scores across different folds?\n",
    "\n",
    "- 0.0001\n",
    "- 0.006\n",
    "- 0.06\n",
    "- 0.26\n",
    "\n",
    "#### Answer\n",
    "\n",
    "`0.006`"
   ]
  },
  {
   "cell_type": "code",
   "execution_count": 20,
   "metadata": {},
   "outputs": [],
   "source": [
    "numerical: list[str] = df_train.select_dtypes(include=\"number\").columns.to_list()\n",
    "categorical: list[str] = df_train.select_dtypes(exclude=\"number\").columns.to_list()\n",
    "features: list[str] = categorical + numerical"
   ]
  },
  {
   "cell_type": "code",
   "execution_count": 21,
   "metadata": {},
   "outputs": [],
   "source": [
    "def train(\n",
    "    df_train: pd.DataFrame,\n",
    "    target_train: np.ndarray,\n",
    "    C: float = 1.0,\n",
    ") -> tuple[DictVectorizer, LogisticRegression]:\n",
    "    dicts: list[dict] = df_train.to_dict(orient=\"records\")\n",
    "\n",
    "    dv = DictVectorizer(sparse=False)\n",
    "    X_train: np.ndarray = dv.fit_transform(X=dicts)\n",
    "\n",
    "    model = LogisticRegression(solver=\"liblinear\", C=C, max_iter=1000)\n",
    "    model.fit(X=X_train, y=target_train)\n",
    "\n",
    "    return dv, model"
   ]
  },
  {
   "cell_type": "code",
   "execution_count": 22,
   "metadata": {},
   "outputs": [],
   "source": [
    "def predict(df: pd.DataFrame, dv: DictVectorizer, model: LogisticRegression) -> \"pd.Series[float]\":\n",
    "    dicts: list[dict] = df.to_dict(orient=\"records\")\n",
    "\n",
    "    X: np.ndarray = dv.transform(dicts)\n",
    "    y_pred: \"pd.Series[float]\" = model.predict_proba(X=X)[:, 1]\n",
    "\n",
    "    return y_pred"
   ]
  },
  {
   "cell_type": "code",
   "execution_count": 23,
   "metadata": {},
   "outputs": [],
   "source": [
    "from sklearn.model_selection import KFold\n",
    "from sklearn.metrics import roc_auc_score"
   ]
  },
  {
   "cell_type": "code",
   "execution_count": 24,
   "metadata": {},
   "outputs": [],
   "source": [
    "C: float = 1.0\n",
    "kfold = KFold(n_splits=5, shuffle=True, random_state=1)\n",
    "\n",
    "scores: list[float] = []\n",
    "\n",
    "for train_idx, val_idx in kfold.split(X=df_full_train):\n",
    "    df_train: pd.DataFrame = df_full_train.iloc[train_idx]\n",
    "    df_val: pd.DataFrame = df_full_train.iloc[val_idx]\n",
    "\n",
    "    y_train: np.ndarray = df[target][df_train.index].to_numpy()\n",
    "    y_val: np.ndarray = df[target][df_val.index].to_numpy()\n",
    "\n",
    "    dv, model = train(df_train=df_train, target_train=y_train, C=C)\n",
    "    y_pred: \"pd.Series[float]\" = predict(df=df_val, dv=dv, model=model)\n",
    "\n",
    "    auc: float = roc_auc_score(y_true=y_val, y_score=y_pred)\n",
    "    scores.append(auc)"
   ]
  },
  {
   "cell_type": "code",
   "execution_count": 25,
   "metadata": {},
   "outputs": [
    {
     "data": {
      "text/plain": [
       "'0.006'"
      ]
     },
     "execution_count": 25,
     "metadata": {},
     "output_type": "execute_result"
    }
   ],
   "source": [
    "f\"{np.std(scores):.1g}\""
   ]
  },
  {
   "cell_type": "markdown",
   "metadata": {},
   "source": [
    "### Question 6: Hyperparameter Tuning\n",
    "\n",
    "Now let's use 5-Fold cross-validation to find the best parameter `C`\n",
    "\n",
    "* Iterate over the following `C` values: `[0.000001, 0.001, 1]`\n",
    "* Initialize `KFold` with the same parameters as previously\n",
    "* Use these parameters for the model: `LogisticRegression(solver='liblinear', C=C, max_iter=1000)`\n",
    "* Compute the mean score as well as the std (round the mean and std to 3 decimal digits)\n",
    "\n",
    "Which `C` leads to the best mean score?\n",
    "\n",
    "- 0.000001\n",
    "- 0.001\n",
    "- 1\n",
    "\n",
    "If you have ties, select the score with the lowest std. If you still have ties, select the smallest `C`.\n",
    "\n",
    "\n",
    "#### Answer\n",
    "\n",
    "`1`"
   ]
  },
  {
   "cell_type": "code",
   "execution_count": 26,
   "metadata": {},
   "outputs": [
    {
     "name": "stdout",
     "output_type": "stream",
     "text": [
      "AUC of C=1e-06: 0.70 +- 0.009\n",
      "AUC of C=0.001: 0.86 +- 0.007\n",
      "AUC of C=1.0: 0.91 +- 0.006\n"
     ]
    }
   ],
   "source": [
    "stats = {}\n",
    "\n",
    "for C in [0.000001, 0.001, 1.0]:\n",
    "    kfold = KFold(n_splits=5, shuffle=True, random_state=1)\n",
    "\n",
    "    scores: list[float] = []\n",
    "\n",
    "    for train_idx, val_idx in kfold.split(X=df_full_train):\n",
    "        df_train: pd.DataFrame = df_full_train.iloc[train_idx]\n",
    "        df_val: pd.DataFrame = df_full_train.iloc[val_idx]\n",
    "\n",
    "        y_train: np.ndarray = df[target][df_train.index].to_numpy()\n",
    "        y_val: np.ndarray = df[target][df_val.index].to_numpy()\n",
    "\n",
    "        dv, model = train(df_train=df_train, target_train=y_train, C=C)\n",
    "        y_pred: \"pd.Series[float]\" = predict(df=df_val, dv=dv, model=model)\n",
    "\n",
    "        auc: float = roc_auc_score(y_true=y_val, y_score=y_pred)\n",
    "        scores.append(auc)\n",
    "\n",
    "    mean_score: float = np.mean(scores)\n",
    "    std_score: float = np.std(scores)\n",
    "    stats[C] = {\"mean\": mean_score, \"std\": std_score}\n",
    "\n",
    "    print(f\"AUC of C={C}: {mean_score:.2f} +- {std_score:.3f}\")"
   ]
  },
  {
   "cell_type": "code",
   "execution_count": 27,
   "metadata": {},
   "outputs": [
    {
     "data": {
      "text/html": [
       "<div>\n",
       "<style scoped>\n",
       "    .dataframe tbody tr th:only-of-type {\n",
       "        vertical-align: middle;\n",
       "    }\n",
       "\n",
       "    .dataframe tbody tr th {\n",
       "        vertical-align: top;\n",
       "    }\n",
       "\n",
       "    .dataframe thead th {\n",
       "        text-align: right;\n",
       "    }\n",
       "</style>\n",
       "<table border=\"1\" class=\"dataframe\">\n",
       "  <thead>\n",
       "    <tr style=\"text-align: right;\">\n",
       "      <th></th>\n",
       "      <th>mean</th>\n",
       "      <th>std</th>\n",
       "    </tr>\n",
       "  </thead>\n",
       "  <tbody>\n",
       "    <tr>\n",
       "      <th>1.000000</th>\n",
       "      <td>0.905865</td>\n",
       "      <td>0.005653</td>\n",
       "    </tr>\n",
       "    <tr>\n",
       "      <th>0.001000</th>\n",
       "      <td>0.860843</td>\n",
       "      <td>0.007180</td>\n",
       "    </tr>\n",
       "    <tr>\n",
       "      <th>0.000001</th>\n",
       "      <td>0.701445</td>\n",
       "      <td>0.009444</td>\n",
       "    </tr>\n",
       "  </tbody>\n",
       "</table>\n",
       "</div>"
      ],
      "text/plain": [
       "              mean       std\n",
       "1.000000  0.905865  0.005653\n",
       "0.001000  0.860843  0.007180\n",
       "0.000001  0.701445  0.009444"
      ]
     },
     "execution_count": 27,
     "metadata": {},
     "output_type": "execute_result"
    }
   ],
   "source": [
    "pd.DataFrame(data=stats).T.sort_values(by=\"mean\", ascending=False)"
   ]
  },
  {
   "cell_type": "code",
   "execution_count": null,
   "metadata": {},
   "outputs": [],
   "source": []
  }
 ],
 "metadata": {
  "kernelspec": {
   "display_name": "venv",
   "language": "python",
   "name": "python3"
  },
  "language_info": {
   "codemirror_mode": {
    "name": "ipython",
    "version": 3
   },
   "file_extension": ".py",
   "mimetype": "text/x-python",
   "name": "python",
   "nbconvert_exporter": "python",
   "pygments_lexer": "ipython3",
   "version": "3.11.10"
  }
 },
 "nbformat": 4,
 "nbformat_minor": 2
}
